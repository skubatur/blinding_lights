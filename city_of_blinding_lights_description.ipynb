{
 "cells": [
  {
   "cell_type": "markdown",
   "metadata": {},
   "source": [
    "# Problem Statement"
   ]
  },
  {
   "cell_type": "markdown",
   "metadata": {},
   "source": [
    "Given a directed, weighted graph (where weight indicates distance), determine the length of the shortest path between nodes. "
   ]
  },
  {
   "cell_type": "markdown",
   "metadata": {},
   "source": [
    "## Solution Description and Code Commentary"
   ]
  },
  {
   "cell_type": "markdown",
   "metadata": {},
   "source": [
    "The graph is initialized (or constructed) just once and is followed by multiple queries. Hence, it makes sense to determine the shortest path from each node in the graph to every other node in the graph. Creating such a matrix of shortest distances is a one-time effort, making all queries run in O(1) time later on.\n",
    "\n",
    "We use Floyd-Warshall algorithm to calculate the shortest distance between each pair of nodes in the graph. It has a time complexity of O($N^3$) where $N$ is number of nodes in the graph. "
   ]
  },
  {
   "cell_type": "markdown",
   "metadata": {},
   "source": [
    "Floyd-Warshall Algorithm:\n",
    "\n",
    "\n",
    "Consider a pair of nodes, A and B. We wish to compute the shortest distance between A and B. (Note that since this is directed graph, the distance from B to A might be different from that of from A to B.)\n",
    "\n",
    "The main idea of the Floyd-Warshall algorithm is to check if traveling from A to B might be shorter through an intermediate node C, than traveling directly from A to B. In other words, the algorithm checks if there exists an intermediate node (say C) such that distance(A, C) + distance(C, B) < distance(A, B).\n",
    "\n",
    "If the graph has $N$ nodes, then for every such A/B pair, all other $N-2$ nodes serve as candidate intermediate nodes, and the Floyd-Warshall algorithm checks each of these candidate nodes. Pair A/B is different from pair B/A, leading to $N^2 - N$ node pairs -- each requiring $N-2$ candidate checks, yielding a time complexity of O($N^3$). \n",
    "\n",
    "We create an adjacency matrix road_edges[x][y] which is initialized to 'INF'. Then, as the inputs are read in, the weights for given pair of nodes is set in road_edges matrix. Let's suppose $n_1, n_2, ..., n_N$ are the nodes.\n",
    "\n",
    "For each pair of nodes (x, y):\n",
    "* For each k in [$n_1, n_2, ..., n_N$]:\n",
    "    * If road_edges[x][y] > road_edges[x][k] + road_edges[k][y]:\n",
    "        * set road_edges[x][y] = road_edges[x][k] + road_edges[k][y]\n",
    "\n"
   ]
  },
  {
   "cell_type": "code",
   "execution_count": null,
   "metadata": {},
   "outputs": [],
   "source": []
  }
 ],
 "metadata": {
  "kernelspec": {
   "display_name": "Python 3",
   "language": "python",
   "name": "python3"
  },
  "language_info": {
   "codemirror_mode": {
    "name": "ipython",
    "version": 3
   },
   "file_extension": ".py",
   "mimetype": "text/x-python",
   "name": "python",
   "nbconvert_exporter": "python",
   "pygments_lexer": "ipython3",
   "version": "3.6.7"
  }
 },
 "nbformat": 4,
 "nbformat_minor": 2
}
